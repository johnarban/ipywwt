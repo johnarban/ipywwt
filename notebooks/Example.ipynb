{
 "cells": [
  {
   "cell_type": "code",
   "execution_count": 1,
   "id": "18c83c16-1d34-4896-80db-4033ca98dc83",
   "metadata": {},
   "outputs": [],
   "source": [
    "from ipywwt import WWTWidget"
   ]
  },
  {
   "cell_type": "code",
   "execution_count": 2,
   "id": "dfe314ae-6486-449c-aa73-cdf1b54db29c",
   "metadata": {},
   "outputs": [
    {
     "data": {
      "application/vnd.jupyter.widget-view+json": {
       "model_id": "f31fafd8bb1a48ec8b4f287cd9d233ef",
       "version_major": 2,
       "version_minor": 0
      },
      "text/plain": [
       "VBox(children=(WWTWidget(layout=Layout(align_self='stretch', height='400px')), Output()))"
      ]
     },
     "execution_count": 2,
     "metadata": {},
     "output_type": "execute_result"
    }
   ],
   "source": [
    "import ipywidgets\n",
    "\n",
    "output = ipywidgets.Output()\n",
    "\n",
    "@output.capture()\n",
    "def on_msg(_widget, msg, buffers):\n",
    "    m = {k:v if k != 'table' else '<<hidden>>' for k,v in msg.items() }\n",
    "    print(f'Received: {(m)}')\n",
    "\n",
    "@output.capture()\n",
    "def wwt_cb(wwt, updated):\n",
    "    print(updated)\n",
    "    \n",
    "def wwt_setup(wwtx, *args, **kwargs):\n",
    "    wwtx.hide_all_chrome()\n",
    "    wwtx.background = \"SDSS: Sloan Digital Sky Survey (Optical)\"\n",
    "    wwtx.foreground = \"SDSS: Sloan Digital Sky Survey (Optical)\"\n",
    "\n",
    "\n",
    "wwt1 = WWTWidget()\n",
    "wwt1.on_ready(wwt_setup)\n",
    "wwt1.on_msg(on_msg)\n",
    "wwt1.set_selection_change_callback(wwt_cb)\n",
    "\n",
    "# wwt1.on_msg(lambda w, m, b: wwt1._on_app_message_received(m, b))\n",
    "\n",
    "ipywidgets.VBox([wwt1, output])"
   ]
  },
  {
   "cell_type": "code",
   "execution_count": 3,
   "id": "74aab707-a5cf-4f45-a3b8-bab15fcda2cb",
   "metadata": {},
   "outputs": [
    {
     "name": "stdout",
     "output_type": "stream",
     "text": [
      "hide all chrome\n"
     ]
    }
   ],
   "source": [
    "wwt1.hide_all_chrome()"
   ]
  },
  {
   "cell_type": "code",
   "execution_count": null,
   "id": "824eab7a-4120-49cc-bf06-f8e28b1d6373",
   "metadata": {},
   "outputs": [],
   "source": [
    "from astropy.table import Table\n",
    "# OEC = '/Users/nmearl/Downloads/RW_cluster_oscillation_0_updated_radec.csv'\n",
    "OEC = '/Applications/John/github/minids/radwave/src/assets/radwave/RW_cluster_oscillation_0_updated_radec.csv'\n",
    "table = Table.read(OEC, delimiter=',', format='ascii.basic')\n",
    "\n",
    "wwt1.layers.add_table_layer(table=table, frame='Sky',\n",
    "                           lon_att='ra', lat_att='dec')"
   ]
  },
  {
   "cell_type": "code",
   "execution_count": null,
   "id": "83a11c14-1eb7-421c-9899-775734dcc560",
   "metadata": {},
   "outputs": [],
   "source": [
    "wwt1.layers[0].size_scale = 100\n",
    "wwt1.layers[0].type = \"gaussian\"\n",
    "wwt1.layers[0].color = \"#00FF00\""
   ]
  },
  {
   "cell_type": "code",
   "execution_count": null,
   "id": "a0616558-9e2f-4d1b-8c2d-8847256ddb9f",
   "metadata": {},
   "outputs": [],
   "source": [
    "wwt1.get_fov()"
   ]
  },
  {
   "cell_type": "code",
   "execution_count": null,
   "id": "27e74544-09b1-483f-b905-8b0d091e0a16",
   "metadata": {},
   "outputs": [],
   "source": []
  },
  {
   "cell_type": "code",
   "execution_count": null,
   "id": "9b35f180-1d5e-4997-a02f-410ab621efa9",
   "metadata": {},
   "outputs": [],
   "source": [
    "from astropy.coordinates import SkyCoord\n",
    "import astropy.units as u\n",
    "# wwt1.center_on_coordinates(SkyCoord.from_name('Andromeda'), instant=True)\n",
    "wwt1.center_on_coordinates(SkyCoord(285.0130833333333 * u.deg,40.22075 * u.deg), instant=True)\n",
    "# wwt1.center_on_coordinates(SkyCoord(180 * u.deg, 25 * u.deg, frame='icrs'))"
   ]
  },
  {
   "cell_type": "code",
   "execution_count": 4,
   "id": "c539e8eb-4b98-4051-8ee5-5696cf0ea948",
   "metadata": {},
   "outputs": [],
   "source": [
    "# wwt1.background = \"WMAP ILC 5-Year Cosmic Microwave Background\"\n",
    "wwt1.background = \"SDSS: Sloan Digital Sky Survey (Optical)\"\n",
    "wwt1.foreground = \"SDSS: Sloan Digital Sky Survey (Optical)\""
   ]
  },
  {
   "cell_type": "code",
   "execution_count": null,
   "id": "96d8b6f3",
   "metadata": {},
   "outputs": [],
   "source": [
    "wwt2 = WWTWidget()\n",
    "wwt2"
   ]
  },
  {
   "cell_type": "code",
   "execution_count": null,
   "id": "80d8e319-508a-4291-a246-0099d0ae9bf8",
   "metadata": {},
   "outputs": [],
   "source": [
    "wwt1.layers[0].id"
   ]
  },
  {
   "cell_type": "code",
   "execution_count": null,
   "id": "cf608646-42b2-4489-8201-6f7cb439f268",
   "metadata": {},
   "outputs": [],
   "source": []
  }
 ],
 "metadata": {
  "kernelspec": {
   "display_name": "Python 3 (ipykernel)",
   "language": "python",
   "name": "python3"
  },
  "language_info": {
   "codemirror_mode": {
    "name": "ipython",
    "version": 3
   },
   "file_extension": ".py",
   "mimetype": "text/x-python",
   "name": "python",
   "nbconvert_exporter": "python",
   "pygments_lexer": "ipython3",
   "version": "3.9.17"
  }
 },
 "nbformat": 4,
 "nbformat_minor": 5
}
